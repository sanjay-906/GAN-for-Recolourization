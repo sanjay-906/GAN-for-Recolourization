{
 "cells": [
  {
   "cell_type": "code",
   "execution_count": 1,
   "metadata": {},
   "outputs": [],
   "source": [
    "import matplotlib.image\n",
    "from tensorflow.keras.models import load_model\n",
    "import cv2\n",
    "import numpy as np\n",
    "import matplotlib\n",
    "from PIL import Image\n",
    "import os\n",
    "import time\n",
    "import fnmatch\n",
    "import moviepy.editor\n",
    "from os.path import isfile, join"
   ]
  },
  {
   "cell_type": "code",
   "execution_count": 2,
   "metadata": {},
   "outputs": [],
   "source": [
    "def capture_frames(videopath,duration = 10):\n",
    "\n",
    "    cap = cv2.VideoCapture(videopath)\n",
    "    i = 0\n",
    "    initial_time = round(time.time())\n",
    "\n",
    "    while(cap.isOpened()):\n",
    "        ret, frame = cap.read()\n",
    "        #prevents infinite looping incase video ends\n",
    "        time_at_execution = round(time.time())\n",
    "        if(time_at_execution - initial_time >= duration):\n",
    "            break\n",
    "\n",
    "        cv2.imwrite(f'D:/GAN4CVD/Generated_frames/frame_{i}.jpg', frame)\n",
    "        i += 1\n",
    "\n",
    "    cap.release()\n",
    "    cv2.destroyAllWindows()\n",
    "    "
   ]
  },
  {
   "cell_type": "code",
   "execution_count": 3,
   "metadata": {},
   "outputs": [],
   "source": [
    "def generate_recolored_frames(path):\n",
    "  \n",
    "    images = os.listdir(path)\n",
    "    model = load_model('model_2600d.h5')\n",
    "    \n",
    "    count = len(fnmatch.filter(os.listdir(path), '*.*'))\n",
    "\n",
    "    for i in range(0, count):\n",
    "        imagePath = f'frame_{i}.jpg'\n",
    "        image = cv2.imread(path + '/' + imagePath)\n",
    "        \n",
    "        imageRGB = cv2.cvtColor(image, cv2.COLOR_BGR2RGB)\n",
    "        image = Image.fromarray(imageRGB)\n",
    "\n",
    "        image = image.resize((256, 256))\n",
    "        image = np.array(image)\n",
    "        image = np.reshape(image, (-1, 256, 256, 3))\n",
    "\n",
    "        image = (image - 127.5)/127.5\n",
    "        recolor = model.predict(image)\n",
    "        recolor = (recolor+1)/2.0\n",
    "        recolor = np.reshape(recolor, (256, 256, 3))\n",
    "\n",
    "        matplotlib.image.imsave(f'D:/GAN4CVD/Recolored_frames/frame{i}.jpg', recolor)\n"
   ]
  },
  {
   "cell_type": "code",
   "execution_count": 4,
   "metadata": {},
   "outputs": [],
   "source": [
    "def convert_frames_to_video(pathIn,pathOut,fps):\n",
    "    \n",
    "    frame_array = []\n",
    "    count = len(fnmatch.filter(os.listdir(pathIn), '*.*'))\n",
    "\n",
    "    for i in range(0,count):\n",
    "        filename=pathIn +'/'+ f'frame{i}.jpg'    \n",
    "        img = cv2.imread(filename)\n",
    "        height, width, layers = img.shape\n",
    "        size = (width,height)\n",
    "        frame_array.append(img)\n",
    "\n",
    "    out = cv2.VideoWriter(pathOut,cv2.VideoWriter_fourcc(*'DIVX'), fps, size)\n",
    "\n",
    "    for i in range(len(frame_array)):\n",
    "        out.write(frame_array[i])\n",
    "        \n",
    "    out.release()\n"
   ]
  },
  {
   "cell_type": "code",
   "execution_count": 5,
   "metadata": {},
   "outputs": [],
   "source": [
    "def recolor(video_path, video_output,duration):\n",
    "    \n",
    "    capture_frames(video_path, duration)\n",
    "    generate_recolored_frames('D:/GAN4CVD/Generated_frames')\n",
    "    convert_frames_to_video('D:/GAN4CVD/Recolored_frames', video_output, 29)\n",
    "\n",
    "    # Delete all frames so that they don't get mixed when the model is ran again\n",
    "    dir = 'D:/GAN4CVD/Generated_frames'\n",
    "    for f in os.listdir(dir):\n",
    "        os.remove(os.path.join(dir, f))\n",
    "\n",
    "    dir = 'D:/GAN4CVD/Recolored_frames'\n",
    "    for f in os.listdir(dir):\n",
    "        os.remove(os.path.join(dir, f))\n",
    "     \n",
    "    audio_editing(duration, video_path, video_output)\n",
    "    "
   ]
  },
  {
   "cell_type": "code",
   "execution_count": 6,
   "metadata": {},
   "outputs": [],
   "source": [
    "def audio_editing(duration, video,output):\n",
    "    \n",
    "    video=moviepy.editor.VideoFileClip(video)\n",
    "    audio=video.audio\n",
    "    audio.write_audiofile('audio.mp3')\n",
    "    \n",
    "    audio0=moviepy.editor.AudioFileClip('audio.mp3')\n",
    "    audio1=audio0.cutout(duration,audio0.duration)\n",
    "    audio1.write_audiofile('audio_clip1.mp3')\n",
    "    \n",
    "    video=moviepy.editor.VideoFileClip(output)\n",
    "    video=video.subclip(0,duration)\n",
    "    audio=moviepy.editor.AudioFileClip('audio_clip1.mp3').subclip(0,duration)\n",
    "    final_clip=video.set_audio(audio)\n",
    "\n",
    "    final_clip.write_videofile('final_output.mp4')\n",
    "    "
   ]
  },
  {
   "cell_type": "code",
   "execution_count": 8,
   "metadata": {},
   "outputs": [
    {
     "name": "stdout",
     "output_type": "stream",
     "text": [
      "WARNING:tensorflow:No training configuration found in the save file, so the model was *not* compiled. Compile it manually.\n",
      "MoviePy - Writing audio in audio.mp3\n"
     ]
    },
    {
     "name": "stderr",
     "output_type": "stream",
     "text": [
      "                                                                                                                       \r"
     ]
    },
    {
     "name": "stdout",
     "output_type": "stream",
     "text": [
      "MoviePy - Done.\n",
      "MoviePy - Writing audio in audio_clip1.mp3\n"
     ]
    },
    {
     "name": "stderr",
     "output_type": "stream",
     "text": [
      "                                                                                                                       \r"
     ]
    },
    {
     "name": "stdout",
     "output_type": "stream",
     "text": [
      "MoviePy - Done.\n",
      "Moviepy - Building video final_output.mp4.\n",
      "MoviePy - Writing audio in final_outputTEMP_MPY_wvf_snd.mp3\n"
     ]
    },
    {
     "name": "stderr",
     "output_type": "stream",
     "text": [
      "                                                                                                                       \r"
     ]
    },
    {
     "name": "stdout",
     "output_type": "stream",
     "text": [
      "MoviePy - Done.\n",
      "Moviepy - Writing video final_output.mp4\n",
      "\n"
     ]
    },
    {
     "name": "stderr",
     "output_type": "stream",
     "text": [
      "                                                                                                                       \r"
     ]
    },
    {
     "name": "stdout",
     "output_type": "stream",
     "text": [
      "Moviepy - Done !\n",
      "Moviepy - video ready final_output.mp4\n"
     ]
    }
   ],
   "source": [
    "recolor('input.mp4','output.mp4',5)\n"
   ]
  }
 ],
 "metadata": {
  "kernelspec": {
   "display_name": "Python 3 (ipykernel)",
   "language": "python",
   "name": "python3"
  },
  "language_info": {
   "codemirror_mode": {
    "name": "ipython",
    "version": 3
   },
   "file_extension": ".py",
   "mimetype": "text/x-python",
   "name": "python",
   "nbconvert_exporter": "python",
   "pygments_lexer": "ipython3",
   "version": "3.9.7"
  },
  "vscode": {
   "interpreter": {
    "hash": "3f6e251e41f25d2fd0c55566434a68956e6ebea14ef0452a3155d80539a37c26"
   }
  }
 },
 "nbformat": 4,
 "nbformat_minor": 2
}
